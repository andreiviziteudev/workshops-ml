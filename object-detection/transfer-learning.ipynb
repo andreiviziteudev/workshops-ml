{
 "cells": [
  {
   "cell_type": "markdown",
   "id": "fb7fef9b",
   "metadata": {},
   "source": [
    "Transfer Learning"
   ]
  },
  {
   "cell_type": "markdown",
   "id": "965495a3",
   "metadata": {},
   "source": [
    "Transfer learning is a machine learning method where a model developed for a task is reused as the starting point for a model on a second task.\n",
    "\n",
    "It is a popular approach in deep learning where pre-trained models are used as the starting point on computer vision and natural language processing tasks given the vast compute and time resources required to develop neural network models on these problems and from the huge jumps in skill that they provide on related problems."
   ]
  },
  {
   "cell_type": "markdown",
   "id": "1cb908cc",
   "metadata": {},
   "source": [
    "Transfer Learning usage steps:\n",
    "\n",
    "\n",
    " 1. Select Source Model. A pre-trained source model is chosen from available models. Many research institutions release models on large and challenging datasets that may be included in the pool of candidate models from which to choose from.\n",
    " \n",
    " 2. Reuse Model. The model pre-trained model can then be used as the starting point for a model on the second task of interest. This may involve using all or parts of the model, depending on the modeling technique used.\n",
    " \n",
    " 3. Tune Model. Optionally, the model may need to be adapted or refined on the input-output pair data available for the task of interest."
   ]
  },
  {
   "cell_type": "markdown",
   "id": "701a3480",
   "metadata": {},
   "source": [
    "When to Use Transfer Learning?\n",
    "\n",
    "Transfer learning is an optimization, a shortcut to saving time or getting better performance.\n",
    "\n",
    "In general, it is not obvious that there will be a benefit to using transfer learning in the domain until after the model has been developed and evaluated."
   ]
  },
  {
   "cell_type": "markdown",
   "id": "83ae98ad",
   "metadata": {},
   "source": [
    "Why use Transfer Learning?\n",
    "\n",
    " - Higher start. The initial skill (before refining the model) on the source model is higher than it otherwise would be.\n",
    " - Higher slope. The rate of improvement of skill during training of the source model is steeper than it otherwise would be.\n",
    " - Higher asymptote. The converged skill of the trained model is better than it otherwise would be."
   ]
  },
  {
   "cell_type": "markdown",
   "id": "3a787294",
   "metadata": {},
   "source": []
  },
  {
   "cell_type": "code",
   "execution_count": null,
   "id": "6a687b35",
   "metadata": {},
   "outputs": [],
   "source": []
  },
  {
   "cell_type": "code",
   "execution_count": null,
   "id": "ab5a6a01",
   "metadata": {},
   "outputs": [],
   "source": [
    "import tensorflow as tf\n",
    "import os\n",
    "import matplotlib.pyplot as plt"
   ]
  },
  {
   "cell_type": "code",
   "execution_count": null,
   "id": "94e526c0",
   "metadata": {},
   "outputs": [],
   "source": [
    "_URL = 'https://storage.googleapis.com/mledu-datasets/cats_and_dogs_filtered.zip'\n",
    "path_to_zip = tf.keras.utils.get_file('cats_and_dogs.zip', origin=_URL, extract=True)\n",
    "PATH = os.path.join(os.path.dirname(path_to_zip), 'cats_and_dogs_filtered')"
   ]
  },
  {
   "cell_type": "code",
   "execution_count": null,
   "id": "86854f24",
   "metadata": {},
   "outputs": [],
   "source": [
    "train_dir = os.path.join(PATH, 'train')\n",
    "validation_dir = os.path.join(PATH, 'validation')\n",
    "\n",
    "BATCH_SIZE = 32\n",
    "IMG_SIZE = (160, 160)\n",
    "\n",
    "train_dataset = tf.keras.preprocessing.image_dataset_from_directory(train_dir,\n",
    "                                                            shuffle=True,\n",
    "                                                            batch_size=BATCH_SIZE,\n",
    "                                                            image_size=IMG_SIZE)\n",
    "\n",
    "validation_dataset = tf.keras.preprocessing.image_dataset_from_directory(validation_dir,\n",
    "                                                                 shuffle=True,\n",
    "                                                                 batch_size=BATCH_SIZE,\n",
    "                                                                 image_size=IMG_SIZE)"
   ]
  },
  {
   "cell_type": "code",
   "execution_count": null,
   "id": "fbebb506",
   "metadata": {},
   "outputs": [],
   "source": [
    "class_names = train_dataset.class_names\n",
    "print('Classes:', class_names)\n",
    "\n",
    "plt.figure(figsize=(10, 10))\n",
    "for images, labels in train_dataset.take(1):\n",
    "    for i in range(9):\n",
    "        ax = plt.subplot(3, 3, i + 1)\n",
    "        plt.imshow(images[i].numpy().astype(\"uint8\"))\n",
    "        plt.title(class_names[labels[i]])\n",
    "        plt.axis(\"off\")"
   ]
  },
  {
   "cell_type": "code",
   "execution_count": null,
   "id": "f2c2eb4c",
   "metadata": {},
   "outputs": [],
   "source": [
    "IMG_SHAPE = IMG_SIZE + (3,)\n",
    "base_model = tf.keras.applications.MobileNetV2(input_shape=IMG_SHAPE,\n",
    "                                               include_top=False,\n",
    "                                               weights='imagenet')"
   ]
  },
  {
   "cell_type": "code",
   "execution_count": null,
   "id": "5d6cf450",
   "metadata": {},
   "outputs": [],
   "source": [
    "preprocess_input = tf.keras.applications.mobilenet_v2.preprocess_input"
   ]
  },
  {
   "cell_type": "code",
   "execution_count": null,
   "id": "7de39ff1",
   "metadata": {},
   "outputs": [],
   "source": [
    "# TODO: add the Input layer with shape (160, 160, 3)\n",
    "inputs = ...\n",
    "x = preprocess_input(inputs)\n",
    "x = base_model(x, training=False)\n",
    "\n",
    "# TODO: add a GlobalAveragePooling2D layer\n",
    "\n",
    "# TODO: add a Dropout layer\n",
    "\n",
    "# TODO: add a layer with 1 neuron\n",
    "outputs = ...\n",
    "model = tf.keras.Model(inputs, outputs)"
   ]
  },
  {
   "cell_type": "code",
   "execution_count": null,
   "id": "5a56d49f",
   "metadata": {},
   "outputs": [],
   "source": [
    "# TODO: compile the model"
   ]
  },
  {
   "cell_type": "code",
   "execution_count": null,
   "id": "b5c8a11b",
   "metadata": {},
   "outputs": [],
   "source": [
    "model.summary()"
   ]
  },
  {
   "cell_type": "code",
   "execution_count": null,
   "id": "3f19586a",
   "metadata": {},
   "outputs": [],
   "source": [
    "loss0, accuracy0 = model.evaluate(validation_dataset)\n",
    "\n",
    "print(\"initial loss: {:.2f}\".format(loss0))\n",
    "print(\"initial accuracy: {:.2f}\".format(accuracy0))"
   ]
  },
  {
   "cell_type": "code",
   "execution_count": null,
   "id": "acb0379d",
   "metadata": {},
   "outputs": [],
   "source": [
    "# TODO: train the model\n",
    "history = ..."
   ]
  },
  {
   "cell_type": "code",
   "execution_count": null,
   "id": "8deecec6",
   "metadata": {},
   "outputs": [],
   "source": [
    "loss, accuracy = model.evaluate(validation_dataset)\n",
    "\n",
    "print(\"loss: {:.2f}\".format(loss))\n",
    "print(\"accuracy: {:.2f}\".format(accuracy))"
   ]
  },
  {
   "cell_type": "code",
   "execution_count": null,
   "id": "c79bda32",
   "metadata": {},
   "outputs": [],
   "source": [
    "acc = history.history['accuracy']\n",
    "val_acc = history.history['val_accuracy']\n",
    "\n",
    "loss = history.history['loss']\n",
    "val_loss = history.history['val_loss']\n",
    "\n",
    "plt.figure(figsize=(8, 8))\n",
    "plt.subplot(2, 1, 1)\n",
    "plt.plot(acc, label='Training Accuracy')\n",
    "plt.plot(val_acc, label='Validation Accuracy')\n",
    "plt.legend(loc='lower right')\n",
    "plt.ylabel('Accuracy')\n",
    "plt.ylim([min(plt.ylim()),1])\n",
    "plt.title('Training and Validation Accuracy')\n",
    "\n",
    "plt.subplot(2, 1, 2)\n",
    "plt.plot(loss, label='Training Loss')\n",
    "plt.plot(val_loss, label='Validation Loss')\n",
    "plt.legend(loc='upper right')\n",
    "plt.ylabel('Cross Entropy')\n",
    "plt.ylim([0,1.0])\n",
    "plt.title('Training and Validation Loss')\n",
    "plt.xlabel('epoch')\n",
    "plt.show()"
   ]
  }
 ],
 "metadata": {
  "kernelspec": {
   "display_name": "Python 3 (ipykernel)",
   "language": "python",
   "name": "python3"
  },
  "language_info": {
   "codemirror_mode": {
    "name": "ipython",
    "version": 3
   },
   "file_extension": ".py",
   "mimetype": "text/x-python",
   "name": "python",
   "nbconvert_exporter": "python",
   "pygments_lexer": "ipython3",
   "version": "3.8.10"
  }
 },
 "nbformat": 4,
 "nbformat_minor": 5
}
