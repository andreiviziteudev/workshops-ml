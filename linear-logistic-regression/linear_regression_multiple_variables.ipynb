{
 "cells": [
  {
   "cell_type": "markdown",
   "id": "e1f4e330",
   "metadata": {},
   "source": [
    "MULTIPLE FEATURES\n",
    "\n",
    "Features: x1, x2, x3, ..., xn\n",
    "\n",
    "PREDICTION: f(x) = w1x1 + w2x2 + w3x3 + ... + wnxn + b\n",
    "\n",
    "Vectorization\n",
    "X = [x1, x2, x3, ..., xn]\n",
    "W = [w1, w2, w3, ..., wn]\n",
    "b\n",
    "\n",
    "COST FUNCTION: f(X) = WX + b, WX - dot product sum(w[i] * x[i])\n",
    "\n",
    "y_hat = [f(X) for i = 0...len(x)-1)]\n",
    "\n",
    "COST: J(w, b) = 1/2m * sum((y_hat[i] - y[i])^2 for i = 0...len(x)-1)\n",
    "\n",
    "GRADIENT DESCENT:\n",
    "one variable:       w = w - α * 1/m * sum((y_hat[i] - y[i]) * x[i] for i = 0...m-1)\n",
    "\n",
    "multiple variables: w1 = w1 - α * 1/m * sum((y_hat[i] - y[i]) * x[i][1] for i = 0...m-1)\n",
    "\n",
    "                    w2 = w2 - α * 1/m * sum((y_hat[i] - y[i]) * x[i][2] for i = 0...m-1)\n",
    "\n",
    "                    wn = wn - α * 1/m * sum((y_hat[i] - y[i]) * x[i][n] for i = 0...m-1)\n",
    "\n",
    "                    W = [w1, w2, ..., wn]\n",
    "\n",
    "one variable:       b = b - α * 1/m * sum((y_hat[i] - y[i]) for i = 0...m-1)\n",
    "\n",
    "multiple variables: b = b - α * 1/m * sum((y_hat[i] - y[i]) for i = 0...m-1)"
   ]
  },
  {
   "cell_type": "markdown",
   "id": "2bf1d84d",
   "metadata": {},
   "source": []
  },
  {
   "cell_type": "markdown",
   "id": "f38510c9",
   "metadata": {},
   "source": [
    "MULTIPLE FEATURES\n",
    "\n",
    "Features: x1, x2, x3, ..., xn\n",
    "PREDICTION: f(x) = w1x1 + w2x2 + w3x3 + ... + wnxn + b\n",
    "\n",
    "Vectorization\n",
    "\n",
    "X = [x1, x2, x3, ..., xn]\n",
    "\n",
    "W = [w1, w2, w3, ..., wn]\n",
    "\n",
    "\n",
    "\n",
    "COST FUNCTION: f(X) = WX + b, WX - dot product sum(w[i] * x[i])\n",
    "\n",
    "y_hat = [f(X) for i = 0...len(x)-1)]\n",
    "\n",
    "\n",
    "COST: J(w, b) = 1/2m * sum((y_hat[i] - y[i])^2 for i = 0...len(x)-1)\n",
    "\n",
    "GRADIENT DESCENT:\n",
    "one variable:       w = w - α * 1/m * sum((y_hat[i] - y[i]) * x[i] for i = 0...m-1)\n",
    "\n",
    "multiple variables: w1 = w1 - α * 1/m * sum((y_hat[i] - y[i]) * x[i][1] for i = 0...m-1)\n",
    "\n",
    "                    w2 = w2 - α * 1/m * sum((y_hat[i] - y[i]) * x[i][2] for i = 0...m-1)\n",
    "\n",
    "                    wn = wn - α * 1/m * sum((y_hat[i] - y[i]) * x[i][n] for i = 0...m-1)\n",
    "\n",
    "                    W = [w1, w2, ..., wn]\n",
    "\n",
    "one variable:       b = b - α * 1/m * sum((y_hat[i] - y[i]) for i = 0...m-1)\n",
    "\n",
    "multiple variables: b = b - α * 1/m * sum((y_hat[i] - y[i]) for i = 0...m-1)"
   ]
  },
  {
   "cell_type": "code",
   "execution_count": null,
   "id": "a53c81d9",
   "metadata": {},
   "outputs": [],
   "source": [
    "import csv\n",
    "import numpy as np\n",
    "\n",
    "data = []\n",
    "with open('dataset.csv', 'r') as f:\n",
    "    reader = csv.reader(f)\n",
    "    header = next(reader)\n",
    "    for row in reader:\n",
    "        # processor speed, ram, diagonal, price\n",
    "        data.append([float(row[1]), float(row[2]), float(row[-2]), float(row[-1])])\n",
    "\n",
    "print(data)\n",
    "\n",
    "X = np.array([d[:-1] for d in data])\n",
    "y = np.array([d[-1] for d in data])"
   ]
  },
  {
   "cell_type": "code",
   "execution_count": null,
   "id": "a8c7c970",
   "metadata": {},
   "outputs": [],
   "source": [
    "def predict(Xi, W, b):\n",
    "    # Predict the outcome y_hat of xi\n",
    "    # given the values of w and b\n",
    "    # Compute f(x)\n",
    "    # ADD YOUR CODE HERE\n",
    "    pass"
   ]
  },
  {
   "cell_type": "code",
   "execution_count": null,
   "id": "e0fd6e2e",
   "metadata": {},
   "outputs": [],
   "source": [
    "def mean_squared_error(y, y_hat):\n",
    "    # Compute the total error given the correct outputs and the predictions\n",
    "    m = len(y)\n",
    "    # ADD YOUR CODE HERE\n",
    "    pass"
   ]
  },
  {
   "cell_type": "code",
   "execution_count": null,
   "id": "a8d67e5c",
   "metadata": {},
   "outputs": [],
   "source": [
    "# Hyperparam\n",
    "alpha = 0.1\n",
    "\n",
    "def gradient_descent_step(W, b, X, y):\n",
    "    # Take a step in the steepest direction \n",
    "    # Compute the new values for W and b\n",
    "    global alpha\n",
    "    m = len(x)\n",
    "    \n",
    "    # ADD YOUR CODE HERE\n",
    "    # Compute y_hat\n",
    "    \n",
    "    # Compute wn = wn - α * 1/m * sum((y_hat[i] - y[i]) * x[i][n] for i = 0...m-1) for all weights\n",
    "    # and W = [w1, w2, ..., wn]\n",
    "    \n",
    "    # Compute b = b - α * 1/m * sum((y_hat[i] - y[i]) for i = 0...m-1)\n",
    "    \n",
    "    return W, b"
   ]
  },
  {
   "cell_type": "code",
   "execution_count": null,
   "id": "5c72ddec",
   "metadata": {},
   "outputs": [],
   "source": [
    "# RESET PARAMS\n",
    "W = [0 for _ in range(len(X[0]))]\n",
    "b = 0"
   ]
  },
  {
   "cell_type": "code",
   "execution_count": null,
   "id": "8ef5a635",
   "metadata": {},
   "outputs": [],
   "source": [
    "for i in range(1000):\n",
    "    W, b = gradient_descent_step(W, b, X, y)\n",
    "    print(W, b)"
   ]
  },
  {
   "cell_type": "markdown",
   "id": "b7f4abc2",
   "metadata": {},
   "source": [
    "NORMALIZATION - the process of translating data into the range [0, 1] (or any other range) or simply transforming data onto the unit sphere.\n",
    "\n",
    "Min-Max Scaling\n",
    "\n",
    "x = (x - x_min) / (x_max - x_min)"
   ]
  },
  {
   "cell_type": "code",
   "execution_count": null,
   "id": "3f78fabe",
   "metadata": {},
   "outputs": [],
   "source": [
    "X_rescaled = []\n",
    "# Normalize each feature of X using the min-max scaling method\n",
    "# ADD YOUR CODE HERE"
   ]
  },
  {
   "cell_type": "code",
   "execution_count": null,
   "id": "3842fee2",
   "metadata": {},
   "outputs": [],
   "source": [
    "# RESET PARAMS\n",
    "W = [0 for _ in range(len(X[0]))]\n",
    "b = 0"
   ]
  },
  {
   "cell_type": "code",
   "execution_count": null,
   "id": "7e53c52e",
   "metadata": {},
   "outputs": [],
   "source": [
    "for i in range(1000):\n",
    "    W, b = gradient_descent_step(W, b, X_rescaled, y)\n",
    "    print(W, b)"
   ]
  }
 ],
 "metadata": {
  "kernelspec": {
   "display_name": "Python 3 (ipykernel)",
   "language": "python",
   "name": "python3"
  },
  "language_info": {
   "codemirror_mode": {
    "name": "ipython",
    "version": 3
   },
   "file_extension": ".py",
   "mimetype": "text/x-python",
   "name": "python",
   "nbconvert_exporter": "python",
   "pygments_lexer": "ipython3",
   "version": "3.8.10"
  }
 },
 "nbformat": 4,
 "nbformat_minor": 5
}
