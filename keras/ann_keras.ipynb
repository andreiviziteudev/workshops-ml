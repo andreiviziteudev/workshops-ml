{
 "cells": [
  {
   "cell_type": "markdown",
   "id": "a58dad28",
   "metadata": {},
   "source": [
    "What is KERAS?\n",
    "\n",
    "Keras is a deep learning API written in Python, running on top of the machine learning platform TensorFlow. It was developed with a focus on enabling fast experimentation. Being able to go from idea to result as fast as possible is key to doing good research."
   ]
  },
  {
   "cell_type": "markdown",
   "id": "09ca7c01",
   "metadata": {},
   "source": [
    "KERAS BUILDING BLOCKS"
   ]
  },
  {
   "cell_type": "code",
   "execution_count": null,
   "id": "c0fd92ee",
   "metadata": {},
   "outputs": [],
   "source": [
    "import tensorflow as tf"
   ]
  },
  {
   "cell_type": "code",
   "execution_count": null,
   "id": "66adfa73",
   "metadata": {},
   "outputs": [],
   "source": [
    "# Defining a Sequential model\n",
    "model = tf.keras.models.Sequential()\n",
    "# model.add(layer)\n",
    "\n",
    "# Using the Functional API\n",
    "inputs = tf.keras.Input(shape=(784,))\n",
    "# outputs = tf.keras.layers.Dense(64, activation=\"relu\")(inputs)\n",
    "# model = tf.keras.Model(inputs=inputs, outputs=outputs, name=\"f_model\")"
   ]
  },
  {
   "cell_type": "markdown",
   "id": "965da345",
   "metadata": {},
   "source": [
    "Keras Layers:\n",
    " - Input - only if we want to create arbitrary model architectures through the Functional API\n",
    " - Dense - fully connected layer\n",
    " - more to come"
   ]
  },
  {
   "cell_type": "code",
   "execution_count": null,
   "id": "a90e0f9f",
   "metadata": {},
   "outputs": [],
   "source": [
    "# Dense layer example\n",
    "layer = tf.keras.layers.Dense(units=32, activation=\"sigmoid\", input_shape=(4,))"
   ]
  },
  {
   "cell_type": "code",
   "execution_count": null,
   "id": "9e39cb13",
   "metadata": {},
   "outputs": [],
   "source": [
    "# Visualize architecture\n",
    "model.summary()"
   ]
  },
  {
   "cell_type": "code",
   "execution_count": null,
   "id": "b1f3aa26",
   "metadata": {},
   "outputs": [],
   "source": [
    "# COMPILE the model\n",
    "model.compile(loss=tf.keras.losses.categorical_crossentropy,\n",
    "              optimizer=tf.keras.optimizers.SGD(learning_rate=0.01),\n",
    "             metrics=['accuracy'])\n",
    "\n",
    "# loss - the cost function, most used are:\n",
    "#     - categorical_crossentropy for multi-class clasification\n",
    "#     - binary_crossentropy for binary classification\n",
    "#     - mse for regression\n",
    "# optimizer - the learning algorithm, most used are SGD, Adam, RMSProp"
   ]
  },
  {
   "cell_type": "code",
   "execution_count": null,
   "id": "d9e5f51b",
   "metadata": {},
   "outputs": [],
   "source": [
    "# TRAIN the model\n",
    "model.fit(x_train, y_train, epochs=5, batch_size=32)\n",
    "\n",
    "# x_train and y_train must by Numpy arrays"
   ]
  },
  {
   "cell_type": "code",
   "execution_count": null,
   "id": "a9a63ce1",
   "metadata": {},
   "outputs": [],
   "source": [
    "# EVALUATE the model\n",
    "loss_and_metrics = model.evaluate(x_test, y_test, batch_size=32)"
   ]
  },
  {
   "cell_type": "code",
   "execution_count": null,
   "id": "093f6515",
   "metadata": {},
   "outputs": [],
   "source": [
    "# PREDICT new values\n",
    "classes = model.predict(new_value, batch_size=128)\n",
    "\n",
    "# new value must have same shape as x_train and x_test"
   ]
  },
  {
   "cell_type": "code",
   "execution_count": null,
   "id": "c8b6897a",
   "metadata": {},
   "outputs": [],
   "source": [
    "# FIRST EXAMPLE - REGRESSION\n",
    "\n",
    "import csv\n",
    "data = []\n",
    "with open('../linear-logistic-regression/dataset.csv', 'r') as f:\n",
    "    reader = csv.reader(f)\n",
    "    header = next(reader)\n",
    "    for row in reader:\n",
    "        # processor speed, ram, SSD storage, diagonal, price\n",
    "        data.append([float(row[1]), float(row[2]), float(row[3]), float(row[-2]), float(row[-1])])\n",
    "\n",
    "print(data)\n",
    "\n",
    "x = [d[:-1] for d in data]\n",
    "y = [d[-1] for d in data]"
   ]
  },
  {
   "cell_type": "code",
   "execution_count": null,
   "id": "cdacf607",
   "metadata": {},
   "outputs": [],
   "source": [
    "import numpy as np\n",
    "\n",
    "X = np.array(x)\n",
    "Y = np.array(y)"
   ]
  },
  {
   "cell_type": "code",
   "execution_count": null,
   "id": "77be285a",
   "metadata": {},
   "outputs": [],
   "source": [
    "model = tf.keras.models.Sequential()\n",
    "# TODO: add a dense layer\n",
    "\n",
    "\n",
    "# TODO: compile the model; remember you can specify a learning rate on the optimezer\n",
    "\n",
    "\n",
    "model.summary()"
   ]
  },
  {
   "cell_type": "code",
   "execution_count": null,
   "id": "d19a5d2d",
   "metadata": {},
   "outputs": [],
   "source": [
    "model.fit(X, Y, epochs=10)"
   ]
  },
  {
   "cell_type": "code",
   "execution_count": null,
   "id": "e94b51c5",
   "metadata": {},
   "outputs": [],
   "source": [
    "model.predict(np.array([X[2]]))"
   ]
  },
  {
   "cell_type": "code",
   "execution_count": null,
   "id": "69535bc9",
   "metadata": {},
   "outputs": [],
   "source": [
    "# SECOND EXAMPLE - BINARY CLASSIFICATION\n",
    "\n",
    "import csv\n",
    "data = []\n",
    "with open('../linear-logistic-regression/logistic_regression_dataset.csv', 'r') as f:\n",
    "    reader = csv.reader(f)\n",
    "    header = next(reader)\n",
    "    for row in reader:\n",
    "        # grade1, grade2, admitted?\n",
    "        data.append([float(row[0]), float(row[1]), float(row[2])])\n",
    "\n",
    "print(data)\n",
    "\n",
    "x = [d[:-1] for d in data]\n",
    "y = [d[-1] for d in data]"
   ]
  },
  {
   "cell_type": "code",
   "execution_count": null,
   "id": "f39faa93",
   "metadata": {},
   "outputs": [],
   "source": [
    "X = np.array(x)\n",
    "Y = np.array(y)"
   ]
  },
  {
   "cell_type": "code",
   "execution_count": null,
   "id": "bb29a0ea",
   "metadata": {},
   "outputs": [],
   "source": [
    "# TODO: Create a Sequential model, add one or more layers and compile it for a binary classification task\n"
   ]
  },
  {
   "cell_type": "code",
   "execution_count": null,
   "id": "e20ff582",
   "metadata": {},
   "outputs": [],
   "source": [
    "model.fit(X, Y, epochs=100)"
   ]
  },
  {
   "cell_type": "code",
   "execution_count": null,
   "id": "a787c5c7",
   "metadata": {},
   "outputs": [],
   "source": [
    "_, accuracy = model.evaluate(X, Y)\n",
    "print('Accuracy: %.2f' % (accuracy*100))"
   ]
  }
 ],
 "metadata": {
  "kernelspec": {
   "display_name": "Python 3 (ipykernel)",
   "language": "python",
   "name": "python3"
  },
  "language_info": {
   "codemirror_mode": {
    "name": "ipython",
    "version": 3
   },
   "file_extension": ".py",
   "mimetype": "text/x-python",
   "name": "python",
   "nbconvert_exporter": "python",
   "pygments_lexer": "ipython3",
   "version": "3.8.10"
  }
 },
 "nbformat": 4,
 "nbformat_minor": 5
}
